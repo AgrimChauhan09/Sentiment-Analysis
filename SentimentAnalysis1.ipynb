{
  "cells": [
    {
      "cell_type": "code",
      "execution_count": null,
      "metadata": {
        "id": "kahd2jP7T-f-",
        "colab": {
          "base_uri": "https://localhost:8080/"
        },
        "outputId": "5356dcf8-a0f3-4508-a0aa-01779d17e969"
      },
      "outputs": [
        {
          "output_type": "stream",
          "name": "stdout",
          "text": [
            "cp: cannot stat 'kaggle.json': No such file or directory\n",
            "chmod: cannot access '/root/.kaggle/kaggle.json': No such file or directory\n"
          ]
        }
      ],
      "source": [
        "!mkdir -p ~/.kaggle\n",
        "!cp kaggle.json ~/.kaggle/\n",
        "!chmod 600 ~/.kaggle/kaggle.json"
      ]
    },
    {
      "cell_type": "code",
      "execution_count": null,
      "metadata": {
        "colab": {
          "base_uri": "https://localhost:8080/"
        },
        "id": "tjFvFcYqUD2b",
        "outputId": "be0f1c22-8eea-447c-dd75-25f118582545"
      },
      "outputs": [
        {
          "output_type": "stream",
          "name": "stdout",
          "text": [
            "Dataset URL: https://www.kaggle.com/datasets/kazanova/sentiment140\n",
            "License(s): other\n",
            "sentiment140.zip: Skipping, found more recently modified local copy (use --force to force download)\n"
          ]
        }
      ],
      "source": [
        "!kaggle datasets download -d kazanova/sentiment140"
      ]
    },
    {
      "cell_type": "code",
      "execution_count": null,
      "metadata": {
        "colab": {
          "base_uri": "https://localhost:8080/"
        },
        "id": "xX56sp1nV49g",
        "outputId": "f62e2564-694b-4c2b-aaab-4129bb57f1bf"
      },
      "outputs": [
        {
          "output_type": "stream",
          "name": "stdout",
          "text": [
            "Done\n"
          ]
        }
      ],
      "source": [
        "from zipfile import ZipFile\n",
        "dataset = '/content/sentiment140.zip'\n",
        "\n",
        "with ZipFile(dataset, 'r') as zip :\n",
        "  zip.extractall()\n",
        "  print('Done')"
      ]
    },
    {
      "cell_type": "code",
      "execution_count": null,
      "metadata": {
        "id": "yZiBmmpJV-Dc"
      },
      "outputs": [],
      "source": [
        "from nltk.corpus import stopwords\n",
        "from nltk.stem.porter import PorterStemmer\n",
        "from sklearn.feature_extraction.text import TfidfVectorizer\n",
        "from sklearn.model_selection import train_test_split\n",
        "from sklearn.linear_model import LogisticRegression\n",
        "from sklearn.metrics import accuracy_score, confusion_matrix"
      ]
    },
    {
      "cell_type": "code",
      "execution_count": null,
      "metadata": {
        "id": "h0Lt5wijWAGn",
        "colab": {
          "base_uri": "https://localhost:8080/"
        },
        "outputId": "0604cf26-f6f2-4585-f99b-884173f10b91"
      },
      "outputs": [
        {
          "output_type": "stream",
          "name": "stderr",
          "text": [
            "[nltk_data] Downloading package stopwords to /root/nltk_data...\n",
            "[nltk_data]   Package stopwords is already up-to-date!\n"
          ]
        },
        {
          "output_type": "execute_result",
          "data": {
            "text/plain": [
              "True"
            ]
          },
          "metadata": {},
          "execution_count": 59
        }
      ],
      "source": [
        "import nltk # natural language toolkit\n",
        "nltk.download('stopwords')"
      ]
    },
    {
      "cell_type": "code",
      "execution_count": null,
      "metadata": {
        "id": "GKV0HM-nWCGB",
        "colab": {
          "base_uri": "https://localhost:8080/"
        },
        "outputId": "f442b047-a3fe-4670-b069-73e125887446"
      },
      "outputs": [
        {
          "output_type": "stream",
          "name": "stdout",
          "text": [
            "['i', 'me', 'my', 'myself', 'we', 'our', 'ours', 'ourselves', 'you', \"you're\", \"you've\", \"you'll\", \"you'd\", 'your', 'yours', 'yourself', 'yourselves', 'he', 'him', 'his', 'himself', 'she', \"she's\", 'her', 'hers', 'herself', 'it', \"it's\", 'its', 'itself', 'they', 'them', 'their', 'theirs', 'themselves', 'what', 'which', 'who', 'whom', 'this', 'that', \"that'll\", 'these', 'those', 'am', 'is', 'are', 'was', 'were', 'be', 'been', 'being', 'have', 'has', 'had', 'having', 'do', 'does', 'did', 'doing', 'a', 'an', 'the', 'and', 'but', 'if', 'or', 'because', 'as', 'until', 'while', 'of', 'at', 'by', 'for', 'with', 'about', 'against', 'between', 'into', 'through', 'during', 'before', 'after', 'above', 'below', 'to', 'from', 'up', 'down', 'in', 'out', 'on', 'off', 'over', 'under', 'again', 'further', 'then', 'once', 'here', 'there', 'when', 'where', 'why', 'how', 'all', 'any', 'both', 'each', 'few', 'more', 'most', 'other', 'some', 'such', 'no', 'nor', 'not', 'only', 'own', 'same', 'so', 'than', 'too', 'very', 's', 't', 'can', 'will', 'just', 'don', \"don't\", 'should', \"should've\", 'now', 'd', 'll', 'm', 'o', 're', 've', 'y', 'ain', 'aren', \"aren't\", 'couldn', \"couldn't\", 'didn', \"didn't\", 'doesn', \"doesn't\", 'hadn', \"hadn't\", 'hasn', \"hasn't\", 'haven', \"haven't\", 'isn', \"isn't\", 'ma', 'mightn', \"mightn't\", 'mustn', \"mustn't\", 'needn', \"needn't\", 'shan', \"shan't\", 'shouldn', \"shouldn't\", 'wasn', \"wasn't\", 'weren', \"weren't\", 'won', \"won't\", 'wouldn', \"wouldn't\"]\n"
          ]
        }
      ],
      "source": [
        "print(stopwords.words(\"english\"))"
      ]
    },
    {
      "cell_type": "code",
      "execution_count": null,
      "metadata": {
        "id": "p-0vSmcIWE22"
      },
      "outputs": [],
      "source": [
        "import numpy as np\n",
        "import pandas as pd\n",
        "import re"
      ]
    },
    {
      "cell_type": "markdown",
      "metadata": {
        "id": "6a0CNkgBXmBg"
      },
      "source": [
        "Data Processing"
      ]
    },
    {
      "cell_type": "code",
      "execution_count": null,
      "metadata": {
        "id": "fDY8Z2y6XnU6"
      },
      "outputs": [],
      "source": [
        "#load data from csv to pandas\n",
        "data = pd.read_csv('/content/training.1600000.processed.noemoticon.csv', encoding = 'ISO-8859-1')"
      ]
    },
    {
      "cell_type": "code",
      "execution_count": null,
      "metadata": {
        "id": "3e4uT7WXX0Rj",
        "colab": {
          "base_uri": "https://localhost:8080/"
        },
        "outputId": "3c13e254-5c25-4749-95e4-ecf4ae1d93f5"
      },
      "outputs": [
        {
          "output_type": "execute_result",
          "data": {
            "text/plain": [
              "(1599999, 6)"
            ]
          },
          "metadata": {},
          "execution_count": 63
        }
      ],
      "source": [
        "# checking the number of rows and columns\n",
        "data.shape"
      ]
    },
    {
      "cell_type": "code",
      "execution_count": null,
      "metadata": {
        "id": "EWvnvlTxX8Cl",
        "colab": {
          "base_uri": "https://localhost:8080/",
          "height": 744
        },
        "outputId": "82b29974-3104-4422-99f0-b83b214cc1c4"
      },
      "outputs": [
        {
          "output_type": "execute_result",
          "data": {
            "text/plain": [
              "         0  1467810369  Mon Apr 06 22:19:45 PDT 2009  NO_QUERY  \\\n",
              "994147   4  1835502006  Mon May 18 06:08:15 PDT 2009  NO_QUERY   \n",
              "1297307  4  2004476573  Tue Jun 02 08:15:39 PDT 2009  NO_QUERY   \n",
              "1014826  4  1881489126  Fri May 22 04:48:14 PDT 2009  NO_QUERY   \n",
              "1480835  4  2066957248  Sun Jun 07 11:29:09 PDT 2009  NO_QUERY   \n",
              "92044    0  1759845536  Sun May 10 20:05:24 PDT 2009  NO_QUERY   \n",
              "488110   0  2182468405  Mon Jun 15 13:12:37 PDT 2009  NO_QUERY   \n",
              "7538     0  1469866330  Tue Apr 07 07:39:05 PDT 2009  NO_QUERY   \n",
              "992022   4  1835194030  Mon May 18 05:23:28 PDT 2009  NO_QUERY   \n",
              "1483415  4  2067469579  Sun Jun 07 12:24:00 PDT 2009  NO_QUERY   \n",
              "1208400  4  1988816362  Sun May 31 23:27:32 PDT 2009  NO_QUERY   \n",
              "\n",
              "         _TheSpecialOne_  \\\n",
              "994147          SShayler   \n",
              "1297307        niiknacks   \n",
              "1014826        Adickted_   \n",
              "1480835   afrequentflyer   \n",
              "92044         proconcert   \n",
              "488110   graemesmith1978   \n",
              "7538            jukester   \n",
              "992022      KristenSousa   \n",
              "1483415         protesss   \n",
              "1208400        benlucier   \n",
              "\n",
              "        @switchfoot http://twitpic.com/2y1zl - Awww, that's a bummer.  You shoulda got David Carr of Third Day to do it. ;D  \n",
              "994147   @todayinsf Yep I definitely caught it.  Thanks...                                                                   \n",
              "1297307             Wait. Try for her license again* Oops                                                                    \n",
              "1014826  Good morning world  Last night was full of wor...                                                                   \n",
              "1480835  @Janneke8 lmao i am so stupid, i just read she...                                                                   \n",
              "92044    Hiccups. Just what I need before retiring to m...                                                                   \n",
              "488110   @KerronCross re: Broad ... sometimes, and yep ...                                                                   \n",
              "7538     Back after spending a couple of days with my s...                                                                   \n",
              "992022   @Rokkster - argh! of all days to leave my iPod...                                                                   \n",
              "1483415  @kerrymarieuk87 its where I'm staying in tener...                                                                   \n",
              "1208400  @Mcfixit Ok, done. My friends are backing away...                                                                   "
            ],
            "text/html": [
              "\n",
              "  <div id=\"df-c004a54a-76a2-4fc4-ac54-6e4504c71ef9\" class=\"colab-df-container\">\n",
              "    <div>\n",
              "<style scoped>\n",
              "    .dataframe tbody tr th:only-of-type {\n",
              "        vertical-align: middle;\n",
              "    }\n",
              "\n",
              "    .dataframe tbody tr th {\n",
              "        vertical-align: top;\n",
              "    }\n",
              "\n",
              "    .dataframe thead th {\n",
              "        text-align: right;\n",
              "    }\n",
              "</style>\n",
              "<table border=\"1\" class=\"dataframe\">\n",
              "  <thead>\n",
              "    <tr style=\"text-align: right;\">\n",
              "      <th></th>\n",
              "      <th>0</th>\n",
              "      <th>1467810369</th>\n",
              "      <th>Mon Apr 06 22:19:45 PDT 2009</th>\n",
              "      <th>NO_QUERY</th>\n",
              "      <th>_TheSpecialOne_</th>\n",
              "      <th>@switchfoot http://twitpic.com/2y1zl - Awww, that's a bummer.  You shoulda got David Carr of Third Day to do it. ;D</th>\n",
              "    </tr>\n",
              "  </thead>\n",
              "  <tbody>\n",
              "    <tr>\n",
              "      <th>994147</th>\n",
              "      <td>4</td>\n",
              "      <td>1835502006</td>\n",
              "      <td>Mon May 18 06:08:15 PDT 2009</td>\n",
              "      <td>NO_QUERY</td>\n",
              "      <td>SShayler</td>\n",
              "      <td>@todayinsf Yep I definitely caught it.  Thanks...</td>\n",
              "    </tr>\n",
              "    <tr>\n",
              "      <th>1297307</th>\n",
              "      <td>4</td>\n",
              "      <td>2004476573</td>\n",
              "      <td>Tue Jun 02 08:15:39 PDT 2009</td>\n",
              "      <td>NO_QUERY</td>\n",
              "      <td>niiknacks</td>\n",
              "      <td>Wait. Try for her license again* Oops</td>\n",
              "    </tr>\n",
              "    <tr>\n",
              "      <th>1014826</th>\n",
              "      <td>4</td>\n",
              "      <td>1881489126</td>\n",
              "      <td>Fri May 22 04:48:14 PDT 2009</td>\n",
              "      <td>NO_QUERY</td>\n",
              "      <td>Adickted_</td>\n",
              "      <td>Good morning world  Last night was full of wor...</td>\n",
              "    </tr>\n",
              "    <tr>\n",
              "      <th>1480835</th>\n",
              "      <td>4</td>\n",
              "      <td>2066957248</td>\n",
              "      <td>Sun Jun 07 11:29:09 PDT 2009</td>\n",
              "      <td>NO_QUERY</td>\n",
              "      <td>afrequentflyer</td>\n",
              "      <td>@Janneke8 lmao i am so stupid, i just read she...</td>\n",
              "    </tr>\n",
              "    <tr>\n",
              "      <th>92044</th>\n",
              "      <td>0</td>\n",
              "      <td>1759845536</td>\n",
              "      <td>Sun May 10 20:05:24 PDT 2009</td>\n",
              "      <td>NO_QUERY</td>\n",
              "      <td>proconcert</td>\n",
              "      <td>Hiccups. Just what I need before retiring to m...</td>\n",
              "    </tr>\n",
              "    <tr>\n",
              "      <th>488110</th>\n",
              "      <td>0</td>\n",
              "      <td>2182468405</td>\n",
              "      <td>Mon Jun 15 13:12:37 PDT 2009</td>\n",
              "      <td>NO_QUERY</td>\n",
              "      <td>graemesmith1978</td>\n",
              "      <td>@KerronCross re: Broad ... sometimes, and yep ...</td>\n",
              "    </tr>\n",
              "    <tr>\n",
              "      <th>7538</th>\n",
              "      <td>0</td>\n",
              "      <td>1469866330</td>\n",
              "      <td>Tue Apr 07 07:39:05 PDT 2009</td>\n",
              "      <td>NO_QUERY</td>\n",
              "      <td>jukester</td>\n",
              "      <td>Back after spending a couple of days with my s...</td>\n",
              "    </tr>\n",
              "    <tr>\n",
              "      <th>992022</th>\n",
              "      <td>4</td>\n",
              "      <td>1835194030</td>\n",
              "      <td>Mon May 18 05:23:28 PDT 2009</td>\n",
              "      <td>NO_QUERY</td>\n",
              "      <td>KristenSousa</td>\n",
              "      <td>@Rokkster - argh! of all days to leave my iPod...</td>\n",
              "    </tr>\n",
              "    <tr>\n",
              "      <th>1483415</th>\n",
              "      <td>4</td>\n",
              "      <td>2067469579</td>\n",
              "      <td>Sun Jun 07 12:24:00 PDT 2009</td>\n",
              "      <td>NO_QUERY</td>\n",
              "      <td>protesss</td>\n",
              "      <td>@kerrymarieuk87 its where I'm staying in tener...</td>\n",
              "    </tr>\n",
              "    <tr>\n",
              "      <th>1208400</th>\n",
              "      <td>4</td>\n",
              "      <td>1988816362</td>\n",
              "      <td>Sun May 31 23:27:32 PDT 2009</td>\n",
              "      <td>NO_QUERY</td>\n",
              "      <td>benlucier</td>\n",
              "      <td>@Mcfixit Ok, done. My friends are backing away...</td>\n",
              "    </tr>\n",
              "  </tbody>\n",
              "</table>\n",
              "</div>\n",
              "    <div class=\"colab-df-buttons\">\n",
              "\n",
              "  <div class=\"colab-df-container\">\n",
              "    <button class=\"colab-df-convert\" onclick=\"convertToInteractive('df-c004a54a-76a2-4fc4-ac54-6e4504c71ef9')\"\n",
              "            title=\"Convert this dataframe to an interactive table.\"\n",
              "            style=\"display:none;\">\n",
              "\n",
              "  <svg xmlns=\"http://www.w3.org/2000/svg\" height=\"24px\" viewBox=\"0 -960 960 960\">\n",
              "    <path d=\"M120-120v-720h720v720H120Zm60-500h600v-160H180v160Zm220 220h160v-160H400v160Zm0 220h160v-160H400v160ZM180-400h160v-160H180v160Zm440 0h160v-160H620v160ZM180-180h160v-160H180v160Zm440 0h160v-160H620v160Z\"/>\n",
              "  </svg>\n",
              "    </button>\n",
              "\n",
              "  <style>\n",
              "    .colab-df-container {\n",
              "      display:flex;\n",
              "      gap: 12px;\n",
              "    }\n",
              "\n",
              "    .colab-df-convert {\n",
              "      background-color: #E8F0FE;\n",
              "      border: none;\n",
              "      border-radius: 50%;\n",
              "      cursor: pointer;\n",
              "      display: none;\n",
              "      fill: #1967D2;\n",
              "      height: 32px;\n",
              "      padding: 0 0 0 0;\n",
              "      width: 32px;\n",
              "    }\n",
              "\n",
              "    .colab-df-convert:hover {\n",
              "      background-color: #E2EBFA;\n",
              "      box-shadow: 0px 1px 2px rgba(60, 64, 67, 0.3), 0px 1px 3px 1px rgba(60, 64, 67, 0.15);\n",
              "      fill: #174EA6;\n",
              "    }\n",
              "\n",
              "    .colab-df-buttons div {\n",
              "      margin-bottom: 4px;\n",
              "    }\n",
              "\n",
              "    [theme=dark] .colab-df-convert {\n",
              "      background-color: #3B4455;\n",
              "      fill: #D2E3FC;\n",
              "    }\n",
              "\n",
              "    [theme=dark] .colab-df-convert:hover {\n",
              "      background-color: #434B5C;\n",
              "      box-shadow: 0px 1px 3px 1px rgba(0, 0, 0, 0.15);\n",
              "      filter: drop-shadow(0px 1px 2px rgba(0, 0, 0, 0.3));\n",
              "      fill: #FFFFFF;\n",
              "    }\n",
              "  </style>\n",
              "\n",
              "    <script>\n",
              "      const buttonEl =\n",
              "        document.querySelector('#df-c004a54a-76a2-4fc4-ac54-6e4504c71ef9 button.colab-df-convert');\n",
              "      buttonEl.style.display =\n",
              "        google.colab.kernel.accessAllowed ? 'block' : 'none';\n",
              "\n",
              "      async function convertToInteractive(key) {\n",
              "        const element = document.querySelector('#df-c004a54a-76a2-4fc4-ac54-6e4504c71ef9');\n",
              "        const dataTable =\n",
              "          await google.colab.kernel.invokeFunction('convertToInteractive',\n",
              "                                                    [key], {});\n",
              "        if (!dataTable) return;\n",
              "\n",
              "        const docLinkHtml = 'Like what you see? Visit the ' +\n",
              "          '<a target=\"_blank\" href=https://colab.research.google.com/notebooks/data_table.ipynb>data table notebook</a>'\n",
              "          + ' to learn more about interactive tables.';\n",
              "        element.innerHTML = '';\n",
              "        dataTable['output_type'] = 'display_data';\n",
              "        await google.colab.output.renderOutput(dataTable, element);\n",
              "        const docLink = document.createElement('div');\n",
              "        docLink.innerHTML = docLinkHtml;\n",
              "        element.appendChild(docLink);\n",
              "      }\n",
              "    </script>\n",
              "  </div>\n",
              "\n",
              "\n",
              "<div id=\"df-a95ce5aa-d2cc-4561-8d16-7e057d25a6ef\">\n",
              "  <button class=\"colab-df-quickchart\" onclick=\"quickchart('df-a95ce5aa-d2cc-4561-8d16-7e057d25a6ef')\"\n",
              "            title=\"Suggest charts\"\n",
              "            style=\"display:none;\">\n",
              "\n",
              "<svg xmlns=\"http://www.w3.org/2000/svg\" height=\"24px\"viewBox=\"0 0 24 24\"\n",
              "     width=\"24px\">\n",
              "    <g>\n",
              "        <path d=\"M19 3H5c-1.1 0-2 .9-2 2v14c0 1.1.9 2 2 2h14c1.1 0 2-.9 2-2V5c0-1.1-.9-2-2-2zM9 17H7v-7h2v7zm4 0h-2V7h2v10zm4 0h-2v-4h2v4z\"/>\n",
              "    </g>\n",
              "</svg>\n",
              "  </button>\n",
              "\n",
              "<style>\n",
              "  .colab-df-quickchart {\n",
              "      --bg-color: #E8F0FE;\n",
              "      --fill-color: #1967D2;\n",
              "      --hover-bg-color: #E2EBFA;\n",
              "      --hover-fill-color: #174EA6;\n",
              "      --disabled-fill-color: #AAA;\n",
              "      --disabled-bg-color: #DDD;\n",
              "  }\n",
              "\n",
              "  [theme=dark] .colab-df-quickchart {\n",
              "      --bg-color: #3B4455;\n",
              "      --fill-color: #D2E3FC;\n",
              "      --hover-bg-color: #434B5C;\n",
              "      --hover-fill-color: #FFFFFF;\n",
              "      --disabled-bg-color: #3B4455;\n",
              "      --disabled-fill-color: #666;\n",
              "  }\n",
              "\n",
              "  .colab-df-quickchart {\n",
              "    background-color: var(--bg-color);\n",
              "    border: none;\n",
              "    border-radius: 50%;\n",
              "    cursor: pointer;\n",
              "    display: none;\n",
              "    fill: var(--fill-color);\n",
              "    height: 32px;\n",
              "    padding: 0;\n",
              "    width: 32px;\n",
              "  }\n",
              "\n",
              "  .colab-df-quickchart:hover {\n",
              "    background-color: var(--hover-bg-color);\n",
              "    box-shadow: 0 1px 2px rgba(60, 64, 67, 0.3), 0 1px 3px 1px rgba(60, 64, 67, 0.15);\n",
              "    fill: var(--button-hover-fill-color);\n",
              "  }\n",
              "\n",
              "  .colab-df-quickchart-complete:disabled,\n",
              "  .colab-df-quickchart-complete:disabled:hover {\n",
              "    background-color: var(--disabled-bg-color);\n",
              "    fill: var(--disabled-fill-color);\n",
              "    box-shadow: none;\n",
              "  }\n",
              "\n",
              "  .colab-df-spinner {\n",
              "    border: 2px solid var(--fill-color);\n",
              "    border-color: transparent;\n",
              "    border-bottom-color: var(--fill-color);\n",
              "    animation:\n",
              "      spin 1s steps(1) infinite;\n",
              "  }\n",
              "\n",
              "  @keyframes spin {\n",
              "    0% {\n",
              "      border-color: transparent;\n",
              "      border-bottom-color: var(--fill-color);\n",
              "      border-left-color: var(--fill-color);\n",
              "    }\n",
              "    20% {\n",
              "      border-color: transparent;\n",
              "      border-left-color: var(--fill-color);\n",
              "      border-top-color: var(--fill-color);\n",
              "    }\n",
              "    30% {\n",
              "      border-color: transparent;\n",
              "      border-left-color: var(--fill-color);\n",
              "      border-top-color: var(--fill-color);\n",
              "      border-right-color: var(--fill-color);\n",
              "    }\n",
              "    40% {\n",
              "      border-color: transparent;\n",
              "      border-right-color: var(--fill-color);\n",
              "      border-top-color: var(--fill-color);\n",
              "    }\n",
              "    60% {\n",
              "      border-color: transparent;\n",
              "      border-right-color: var(--fill-color);\n",
              "    }\n",
              "    80% {\n",
              "      border-color: transparent;\n",
              "      border-right-color: var(--fill-color);\n",
              "      border-bottom-color: var(--fill-color);\n",
              "    }\n",
              "    90% {\n",
              "      border-color: transparent;\n",
              "      border-bottom-color: var(--fill-color);\n",
              "    }\n",
              "  }\n",
              "</style>\n",
              "\n",
              "  <script>\n",
              "    async function quickchart(key) {\n",
              "      const quickchartButtonEl =\n",
              "        document.querySelector('#' + key + ' button');\n",
              "      quickchartButtonEl.disabled = true;  // To prevent multiple clicks.\n",
              "      quickchartButtonEl.classList.add('colab-df-spinner');\n",
              "      try {\n",
              "        const charts = await google.colab.kernel.invokeFunction(\n",
              "            'suggestCharts', [key], {});\n",
              "      } catch (error) {\n",
              "        console.error('Error during call to suggestCharts:', error);\n",
              "      }\n",
              "      quickchartButtonEl.classList.remove('colab-df-spinner');\n",
              "      quickchartButtonEl.classList.add('colab-df-quickchart-complete');\n",
              "    }\n",
              "    (() => {\n",
              "      let quickchartButtonEl =\n",
              "        document.querySelector('#df-a95ce5aa-d2cc-4561-8d16-7e057d25a6ef button');\n",
              "      quickchartButtonEl.style.display =\n",
              "        google.colab.kernel.accessAllowed ? 'block' : 'none';\n",
              "    })();\n",
              "  </script>\n",
              "</div>\n",
              "\n",
              "    </div>\n",
              "  </div>\n"
            ],
            "application/vnd.google.colaboratory.intrinsic+json": {
              "type": "dataframe",
              "summary": "{\n  \"name\": \"data\",\n  \"rows\": 10,\n  \"fields\": [\n    {\n      \"column\": \"0\",\n      \"properties\": {\n        \"dtype\": \"number\",\n        \"std\": 1,\n        \"min\": 0,\n        \"max\": 4,\n        \"num_unique_values\": 2,\n        \"samples\": [\n          0,\n          4\n        ],\n        \"semantic_type\": \"\",\n        \"description\": \"\"\n      }\n    },\n    {\n      \"column\": \"1467810369\",\n      \"properties\": {\n        \"dtype\": \"number\",\n        \"std\": 201942131,\n        \"min\": 1469866330,\n        \"max\": 2182468405,\n        \"num_unique_values\": 10,\n        \"samples\": [\n          2067469579,\n          2004476573\n        ],\n        \"semantic_type\": \"\",\n        \"description\": \"\"\n      }\n    },\n    {\n      \"column\": \"Mon Apr 06 22:19:45 PDT 2009\",\n      \"properties\": {\n        \"dtype\": \"string\",\n        \"num_unique_values\": 10,\n        \"samples\": [\n          \"Sun Jun 07 12:24:00 PDT 2009\",\n          \"Tue Jun 02 08:15:39 PDT 2009\"\n        ],\n        \"semantic_type\": \"\",\n        \"description\": \"\"\n      }\n    },\n    {\n      \"column\": \"NO_QUERY\",\n      \"properties\": {\n        \"dtype\": \"category\",\n        \"num_unique_values\": 1,\n        \"samples\": [\n          \"NO_QUERY\"\n        ],\n        \"semantic_type\": \"\",\n        \"description\": \"\"\n      }\n    },\n    {\n      \"column\": \"_TheSpecialOne_\",\n      \"properties\": {\n        \"dtype\": \"string\",\n        \"num_unique_values\": 10,\n        \"samples\": [\n          \"protesss\"\n        ],\n        \"semantic_type\": \"\",\n        \"description\": \"\"\n      }\n    },\n    {\n      \"column\": \"@switchfoot http://twitpic.com/2y1zl - Awww, that's a bummer.  You shoulda got David Carr of Third Day to do it. ;D\",\n      \"properties\": {\n        \"dtype\": \"string\",\n        \"num_unique_values\": 10,\n        \"samples\": [\n          \"@kerrymarieuk87 its where I'm staying in tenerife  I'm so excited to get away, especially from these thunder storms!\"\n        ],\n        \"semantic_type\": \"\",\n        \"description\": \"\"\n      }\n    }\n  ]\n}"
            }
          },
          "metadata": {},
          "execution_count": 64
        }
      ],
      "source": [
        "data.sample(10)"
      ]
    },
    {
      "cell_type": "code",
      "execution_count": null,
      "metadata": {
        "id": "Bbxj_K1LYD6-"
      },
      "outputs": [],
      "source": [
        "# naming the columns and reading the daaset again\n",
        "\n",
        "col_names = ['target','id','date','flag','user','text']\n",
        "data = pd.read_csv('/content/training.1600000.processed.noemoticon.csv', encoding = 'ISO-8859-1', names = col_names)"
      ]
    },
    {
      "cell_type": "code",
      "execution_count": null,
      "metadata": {
        "id": "uMsWawUdYjR6",
        "colab": {
          "base_uri": "https://localhost:8080/"
        },
        "outputId": "19201df7-ff5e-4067-d477-9824f395549d"
      },
      "outputs": [
        {
          "output_type": "execute_result",
          "data": {
            "text/plain": [
              "(1600000, 6)"
            ]
          },
          "metadata": {},
          "execution_count": 66
        }
      ],
      "source": [
        "data.shape"
      ]
    },
    {
      "cell_type": "code",
      "execution_count": null,
      "metadata": {
        "id": "20GCxIC3Ym_O",
        "colab": {
          "base_uri": "https://localhost:8080/",
          "height": 206
        },
        "outputId": "d98e5a0e-b856-4c08-9bea-5d8e1440ad45"
      },
      "outputs": [
        {
          "output_type": "execute_result",
          "data": {
            "text/plain": [
              "   target          id                          date      flag  \\\n",
              "0       0  1467810369  Mon Apr 06 22:19:45 PDT 2009  NO_QUERY   \n",
              "1       0  1467810672  Mon Apr 06 22:19:49 PDT 2009  NO_QUERY   \n",
              "2       0  1467810917  Mon Apr 06 22:19:53 PDT 2009  NO_QUERY   \n",
              "3       0  1467811184  Mon Apr 06 22:19:57 PDT 2009  NO_QUERY   \n",
              "4       0  1467811193  Mon Apr 06 22:19:57 PDT 2009  NO_QUERY   \n",
              "\n",
              "              user                                               text  \n",
              "0  _TheSpecialOne_  @switchfoot http://twitpic.com/2y1zl - Awww, t...  \n",
              "1    scotthamilton  is upset that he can't update his Facebook by ...  \n",
              "2         mattycus  @Kenichan I dived many times for the ball. Man...  \n",
              "3          ElleCTF    my whole body feels itchy and like its on fire   \n",
              "4           Karoli  @nationwideclass no, it's not behaving at all....  "
            ],
            "text/html": [
              "\n",
              "  <div id=\"df-82841470-e32d-48b4-806a-75561dbd2bad\" class=\"colab-df-container\">\n",
              "    <div>\n",
              "<style scoped>\n",
              "    .dataframe tbody tr th:only-of-type {\n",
              "        vertical-align: middle;\n",
              "    }\n",
              "\n",
              "    .dataframe tbody tr th {\n",
              "        vertical-align: top;\n",
              "    }\n",
              "\n",
              "    .dataframe thead th {\n",
              "        text-align: right;\n",
              "    }\n",
              "</style>\n",
              "<table border=\"1\" class=\"dataframe\">\n",
              "  <thead>\n",
              "    <tr style=\"text-align: right;\">\n",
              "      <th></th>\n",
              "      <th>target</th>\n",
              "      <th>id</th>\n",
              "      <th>date</th>\n",
              "      <th>flag</th>\n",
              "      <th>user</th>\n",
              "      <th>text</th>\n",
              "    </tr>\n",
              "  </thead>\n",
              "  <tbody>\n",
              "    <tr>\n",
              "      <th>0</th>\n",
              "      <td>0</td>\n",
              "      <td>1467810369</td>\n",
              "      <td>Mon Apr 06 22:19:45 PDT 2009</td>\n",
              "      <td>NO_QUERY</td>\n",
              "      <td>_TheSpecialOne_</td>\n",
              "      <td>@switchfoot http://twitpic.com/2y1zl - Awww, t...</td>\n",
              "    </tr>\n",
              "    <tr>\n",
              "      <th>1</th>\n",
              "      <td>0</td>\n",
              "      <td>1467810672</td>\n",
              "      <td>Mon Apr 06 22:19:49 PDT 2009</td>\n",
              "      <td>NO_QUERY</td>\n",
              "      <td>scotthamilton</td>\n",
              "      <td>is upset that he can't update his Facebook by ...</td>\n",
              "    </tr>\n",
              "    <tr>\n",
              "      <th>2</th>\n",
              "      <td>0</td>\n",
              "      <td>1467810917</td>\n",
              "      <td>Mon Apr 06 22:19:53 PDT 2009</td>\n",
              "      <td>NO_QUERY</td>\n",
              "      <td>mattycus</td>\n",
              "      <td>@Kenichan I dived many times for the ball. Man...</td>\n",
              "    </tr>\n",
              "    <tr>\n",
              "      <th>3</th>\n",
              "      <td>0</td>\n",
              "      <td>1467811184</td>\n",
              "      <td>Mon Apr 06 22:19:57 PDT 2009</td>\n",
              "      <td>NO_QUERY</td>\n",
              "      <td>ElleCTF</td>\n",
              "      <td>my whole body feels itchy and like its on fire</td>\n",
              "    </tr>\n",
              "    <tr>\n",
              "      <th>4</th>\n",
              "      <td>0</td>\n",
              "      <td>1467811193</td>\n",
              "      <td>Mon Apr 06 22:19:57 PDT 2009</td>\n",
              "      <td>NO_QUERY</td>\n",
              "      <td>Karoli</td>\n",
              "      <td>@nationwideclass no, it's not behaving at all....</td>\n",
              "    </tr>\n",
              "  </tbody>\n",
              "</table>\n",
              "</div>\n",
              "    <div class=\"colab-df-buttons\">\n",
              "\n",
              "  <div class=\"colab-df-container\">\n",
              "    <button class=\"colab-df-convert\" onclick=\"convertToInteractive('df-82841470-e32d-48b4-806a-75561dbd2bad')\"\n",
              "            title=\"Convert this dataframe to an interactive table.\"\n",
              "            style=\"display:none;\">\n",
              "\n",
              "  <svg xmlns=\"http://www.w3.org/2000/svg\" height=\"24px\" viewBox=\"0 -960 960 960\">\n",
              "    <path d=\"M120-120v-720h720v720H120Zm60-500h600v-160H180v160Zm220 220h160v-160H400v160Zm0 220h160v-160H400v160ZM180-400h160v-160H180v160Zm440 0h160v-160H620v160ZM180-180h160v-160H180v160Zm440 0h160v-160H620v160Z\"/>\n",
              "  </svg>\n",
              "    </button>\n",
              "\n",
              "  <style>\n",
              "    .colab-df-container {\n",
              "      display:flex;\n",
              "      gap: 12px;\n",
              "    }\n",
              "\n",
              "    .colab-df-convert {\n",
              "      background-color: #E8F0FE;\n",
              "      border: none;\n",
              "      border-radius: 50%;\n",
              "      cursor: pointer;\n",
              "      display: none;\n",
              "      fill: #1967D2;\n",
              "      height: 32px;\n",
              "      padding: 0 0 0 0;\n",
              "      width: 32px;\n",
              "    }\n",
              "\n",
              "    .colab-df-convert:hover {\n",
              "      background-color: #E2EBFA;\n",
              "      box-shadow: 0px 1px 2px rgba(60, 64, 67, 0.3), 0px 1px 3px 1px rgba(60, 64, 67, 0.15);\n",
              "      fill: #174EA6;\n",
              "    }\n",
              "\n",
              "    .colab-df-buttons div {\n",
              "      margin-bottom: 4px;\n",
              "    }\n",
              "\n",
              "    [theme=dark] .colab-df-convert {\n",
              "      background-color: #3B4455;\n",
              "      fill: #D2E3FC;\n",
              "    }\n",
              "\n",
              "    [theme=dark] .colab-df-convert:hover {\n",
              "      background-color: #434B5C;\n",
              "      box-shadow: 0px 1px 3px 1px rgba(0, 0, 0, 0.15);\n",
              "      filter: drop-shadow(0px 1px 2px rgba(0, 0, 0, 0.3));\n",
              "      fill: #FFFFFF;\n",
              "    }\n",
              "  </style>\n",
              "\n",
              "    <script>\n",
              "      const buttonEl =\n",
              "        document.querySelector('#df-82841470-e32d-48b4-806a-75561dbd2bad button.colab-df-convert');\n",
              "      buttonEl.style.display =\n",
              "        google.colab.kernel.accessAllowed ? 'block' : 'none';\n",
              "\n",
              "      async function convertToInteractive(key) {\n",
              "        const element = document.querySelector('#df-82841470-e32d-48b4-806a-75561dbd2bad');\n",
              "        const dataTable =\n",
              "          await google.colab.kernel.invokeFunction('convertToInteractive',\n",
              "                                                    [key], {});\n",
              "        if (!dataTable) return;\n",
              "\n",
              "        const docLinkHtml = 'Like what you see? Visit the ' +\n",
              "          '<a target=\"_blank\" href=https://colab.research.google.com/notebooks/data_table.ipynb>data table notebook</a>'\n",
              "          + ' to learn more about interactive tables.';\n",
              "        element.innerHTML = '';\n",
              "        dataTable['output_type'] = 'display_data';\n",
              "        await google.colab.output.renderOutput(dataTable, element);\n",
              "        const docLink = document.createElement('div');\n",
              "        docLink.innerHTML = docLinkHtml;\n",
              "        element.appendChild(docLink);\n",
              "      }\n",
              "    </script>\n",
              "  </div>\n",
              "\n",
              "\n",
              "<div id=\"df-5a75d748-5604-4873-81ae-d888d279d0c3\">\n",
              "  <button class=\"colab-df-quickchart\" onclick=\"quickchart('df-5a75d748-5604-4873-81ae-d888d279d0c3')\"\n",
              "            title=\"Suggest charts\"\n",
              "            style=\"display:none;\">\n",
              "\n",
              "<svg xmlns=\"http://www.w3.org/2000/svg\" height=\"24px\"viewBox=\"0 0 24 24\"\n",
              "     width=\"24px\">\n",
              "    <g>\n",
              "        <path d=\"M19 3H5c-1.1 0-2 .9-2 2v14c0 1.1.9 2 2 2h14c1.1 0 2-.9 2-2V5c0-1.1-.9-2-2-2zM9 17H7v-7h2v7zm4 0h-2V7h2v10zm4 0h-2v-4h2v4z\"/>\n",
              "    </g>\n",
              "</svg>\n",
              "  </button>\n",
              "\n",
              "<style>\n",
              "  .colab-df-quickchart {\n",
              "      --bg-color: #E8F0FE;\n",
              "      --fill-color: #1967D2;\n",
              "      --hover-bg-color: #E2EBFA;\n",
              "      --hover-fill-color: #174EA6;\n",
              "      --disabled-fill-color: #AAA;\n",
              "      --disabled-bg-color: #DDD;\n",
              "  }\n",
              "\n",
              "  [theme=dark] .colab-df-quickchart {\n",
              "      --bg-color: #3B4455;\n",
              "      --fill-color: #D2E3FC;\n",
              "      --hover-bg-color: #434B5C;\n",
              "      --hover-fill-color: #FFFFFF;\n",
              "      --disabled-bg-color: #3B4455;\n",
              "      --disabled-fill-color: #666;\n",
              "  }\n",
              "\n",
              "  .colab-df-quickchart {\n",
              "    background-color: var(--bg-color);\n",
              "    border: none;\n",
              "    border-radius: 50%;\n",
              "    cursor: pointer;\n",
              "    display: none;\n",
              "    fill: var(--fill-color);\n",
              "    height: 32px;\n",
              "    padding: 0;\n",
              "    width: 32px;\n",
              "  }\n",
              "\n",
              "  .colab-df-quickchart:hover {\n",
              "    background-color: var(--hover-bg-color);\n",
              "    box-shadow: 0 1px 2px rgba(60, 64, 67, 0.3), 0 1px 3px 1px rgba(60, 64, 67, 0.15);\n",
              "    fill: var(--button-hover-fill-color);\n",
              "  }\n",
              "\n",
              "  .colab-df-quickchart-complete:disabled,\n",
              "  .colab-df-quickchart-complete:disabled:hover {\n",
              "    background-color: var(--disabled-bg-color);\n",
              "    fill: var(--disabled-fill-color);\n",
              "    box-shadow: none;\n",
              "  }\n",
              "\n",
              "  .colab-df-spinner {\n",
              "    border: 2px solid var(--fill-color);\n",
              "    border-color: transparent;\n",
              "    border-bottom-color: var(--fill-color);\n",
              "    animation:\n",
              "      spin 1s steps(1) infinite;\n",
              "  }\n",
              "\n",
              "  @keyframes spin {\n",
              "    0% {\n",
              "      border-color: transparent;\n",
              "      border-bottom-color: var(--fill-color);\n",
              "      border-left-color: var(--fill-color);\n",
              "    }\n",
              "    20% {\n",
              "      border-color: transparent;\n",
              "      border-left-color: var(--fill-color);\n",
              "      border-top-color: var(--fill-color);\n",
              "    }\n",
              "    30% {\n",
              "      border-color: transparent;\n",
              "      border-left-color: var(--fill-color);\n",
              "      border-top-color: var(--fill-color);\n",
              "      border-right-color: var(--fill-color);\n",
              "    }\n",
              "    40% {\n",
              "      border-color: transparent;\n",
              "      border-right-color: var(--fill-color);\n",
              "      border-top-color: var(--fill-color);\n",
              "    }\n",
              "    60% {\n",
              "      border-color: transparent;\n",
              "      border-right-color: var(--fill-color);\n",
              "    }\n",
              "    80% {\n",
              "      border-color: transparent;\n",
              "      border-right-color: var(--fill-color);\n",
              "      border-bottom-color: var(--fill-color);\n",
              "    }\n",
              "    90% {\n",
              "      border-color: transparent;\n",
              "      border-bottom-color: var(--fill-color);\n",
              "    }\n",
              "  }\n",
              "</style>\n",
              "\n",
              "  <script>\n",
              "    async function quickchart(key) {\n",
              "      const quickchartButtonEl =\n",
              "        document.querySelector('#' + key + ' button');\n",
              "      quickchartButtonEl.disabled = true;  // To prevent multiple clicks.\n",
              "      quickchartButtonEl.classList.add('colab-df-spinner');\n",
              "      try {\n",
              "        const charts = await google.colab.kernel.invokeFunction(\n",
              "            'suggestCharts', [key], {});\n",
              "      } catch (error) {\n",
              "        console.error('Error during call to suggestCharts:', error);\n",
              "      }\n",
              "      quickchartButtonEl.classList.remove('colab-df-spinner');\n",
              "      quickchartButtonEl.classList.add('colab-df-quickchart-complete');\n",
              "    }\n",
              "    (() => {\n",
              "      let quickchartButtonEl =\n",
              "        document.querySelector('#df-5a75d748-5604-4873-81ae-d888d279d0c3 button');\n",
              "      quickchartButtonEl.style.display =\n",
              "        google.colab.kernel.accessAllowed ? 'block' : 'none';\n",
              "    })();\n",
              "  </script>\n",
              "</div>\n",
              "\n",
              "    </div>\n",
              "  </div>\n"
            ],
            "application/vnd.google.colaboratory.intrinsic+json": {
              "type": "dataframe",
              "variable_name": "data"
            }
          },
          "metadata": {},
          "execution_count": 67
        }
      ],
      "source": [
        "data.head()"
      ]
    },
    {
      "cell_type": "code",
      "execution_count": null,
      "metadata": {
        "id": "tbaOjyDcZGOq",
        "colab": {
          "base_uri": "https://localhost:8080/"
        },
        "outputId": "be917cbc-3a61-484a-c30c-a80a6bc12586"
      },
      "outputs": [
        {
          "output_type": "execute_result",
          "data": {
            "text/plain": [
              "target    0\n",
              "id        0\n",
              "date      0\n",
              "flag      0\n",
              "user      0\n",
              "text      0\n",
              "dtype: int64"
            ]
          },
          "metadata": {},
          "execution_count": 68
        }
      ],
      "source": [
        "# counting the number of missing values\n",
        "data.isnull().sum()"
      ]
    },
    {
      "cell_type": "code",
      "execution_count": null,
      "metadata": {
        "id": "XFvUFny6e3Lr"
      },
      "outputs": [],
      "source": [
        "data = data.sample(n=100000)"
      ]
    },
    {
      "cell_type": "code",
      "execution_count": null,
      "metadata": {
        "id": "AAfIrzkDq_y8",
        "colab": {
          "base_uri": "https://localhost:8080/"
        },
        "outputId": "fbfd1652-94e1-498a-da8e-be689d5ac316"
      },
      "outputs": [
        {
          "output_type": "execute_result",
          "data": {
            "text/plain": [
              "0"
            ]
          },
          "metadata": {},
          "execution_count": 70
        }
      ],
      "source": [
        "data.duplicated().sum() # no duplicate values"
      ]
    },
    {
      "cell_type": "code",
      "execution_count": null,
      "metadata": {
        "id": "mnBWVEtLZaq2",
        "colab": {
          "base_uri": "https://localhost:8080/"
        },
        "outputId": "ba138cbb-aa18-4262-a037-f5cc15996350"
      },
      "outputs": [
        {
          "output_type": "execute_result",
          "data": {
            "text/plain": [
              "target\n",
              "0    50107\n",
              "4    49893\n",
              "Name: count, dtype: int64"
            ]
          },
          "metadata": {},
          "execution_count": 71
        }
      ],
      "source": [
        "#checking the distribution of target column\n",
        "data['target'].value_counts() # almost equal distribution"
      ]
    },
    {
      "cell_type": "markdown",
      "metadata": {
        "id": "iNcUQkLTZ-31"
      },
      "source": [
        "convert the target for positive tweets, 4 to 1"
      ]
    },
    {
      "cell_type": "code",
      "execution_count": null,
      "metadata": {
        "id": "MJjlbOI7aB1r"
      },
      "outputs": [],
      "source": [
        "data.replace({'target':{4:1}}, inplace = True) # in the form of a dictionary"
      ]
    },
    {
      "cell_type": "code",
      "execution_count": null,
      "metadata": {
        "id": "UwlZr8AeaGIU",
        "colab": {
          "base_uri": "https://localhost:8080/"
        },
        "outputId": "5ca8d826-3ff7-4a0e-cfdf-a5289d2f77d8"
      },
      "outputs": [
        {
          "output_type": "execute_result",
          "data": {
            "text/plain": [
              "target\n",
              "0    50107\n",
              "1    49893\n",
              "Name: count, dtype: int64"
            ]
          },
          "metadata": {},
          "execution_count": 73
        }
      ],
      "source": [
        "data['target'].value_counts() # no neutral tweets in the data"
      ]
    },
    {
      "cell_type": "markdown",
      "metadata": {
        "id": "RS6j1XeFalYD"
      },
      "source": [
        "0 -> negative tweet\n",
        "\n",
        "1 -> positive tweet"
      ]
    },
    {
      "cell_type": "markdown",
      "metadata": {
        "id": "n8AtFiBka7RL"
      },
      "source": [
        "STEMMING\n"
      ]
    },
    {
      "cell_type": "code",
      "execution_count": null,
      "metadata": {
        "collapsed": true,
        "id": "91VgvPvAc9oR",
        "colab": {
          "base_uri": "https://localhost:8080/"
        },
        "outputId": "aa115094-94d7-4768-e921-e3f65284e7a7"
      },
      "outputs": [
        {
          "output_type": "stream",
          "name": "stdout",
          "text": [
            "Requirement already satisfied: emoji in /usr/local/lib/python3.10/dist-packages (2.12.1)\n",
            "Requirement already satisfied: typing-extensions>=4.7.0 in /usr/local/lib/python3.10/dist-packages (from emoji) (4.12.2)\n",
            "Hello :smiling_face_with_smiling_eyes:! I hope you're having a great day :sun_with_face:.\n"
          ]
        }
      ],
      "source": [
        "# for example nothing to do with code\n",
        "!pip install emoji # for example nothing to do with code\n",
        "import emoji\n",
        "\n",
        "text = \"Hello 😊! I hope you're having a great day 🌞.\"\n",
        "text = emoji.demojize(text)\n",
        "\n",
        "print(text)"
      ]
    },
    {
      "cell_type": "code",
      "execution_count": null,
      "metadata": {
        "id": "h41gTEquAPzt"
      },
      "outputs": [],
      "source": [
        "p_stem = PorterStemmer()\n",
        "import string"
      ]
    },
    {
      "cell_type": "code",
      "execution_count": null,
      "metadata": {
        "id": "7DNPlDy_E-ge",
        "colab": {
          "base_uri": "https://localhost:8080/"
        },
        "outputId": "fdf91d34-b9ec-46d7-88eb-48ad5d9eb59b"
      },
      "outputs": [
        {
          "output_type": "stream",
          "name": "stdout",
          "text": [
            "{'AFAIK': 'As Far As I Know', 'AFK': 'Away From Keyboard', 'ASAP': 'As Soon As Possible', 'ATK': 'At The Keyboard', 'ATM': 'At The Moment', 'A3': 'Anytime, Anywhere, Anyplace', 'BAK': 'Back At Keyboard', 'BBL': 'Be Back Later', 'BBS': 'Be Back Soon', 'BFN': 'Bye For Now', 'BRB': 'Be Right Back', 'BRT': 'Be Right There', 'BTW': 'By The Way', 'B4': 'Before', 'B4N': 'Bye For Now', 'CU': 'See You', 'CUL8R': 'See You Later', 'CYA': 'See You', 'FAQ': 'Frequently Asked Questions', 'FC': 'Fingers Crossed', 'FWIW': \"For What It's Worth\", 'FYI': 'For Your Information', 'GAL': 'Get A Life', 'GG': 'Good Game', 'GN': 'Good Night', 'GMTA': 'Great Minds Think Alike', 'GR8': 'Great!', 'G9': 'Genius', 'IC': 'I See', 'ICQ': 'I Seek you (also a chat program)', 'ILU': ' I Love You', 'IMHO': 'In My Honest/Humble Opinion', 'IMO': 'In My Opinion', 'IOW': 'In Other Words', 'IRL': 'In Real Life', 'KISS': 'Keep It Simple, Stupid', 'LDR': 'Long Distance Relationship', 'LMAO': 'Laugh My A.. Off', 'LOL': 'Laughing Out Loud', 'LTNS': 'Long Time No See', 'L8R': 'Later', 'MTE': 'My Thoughts Exactly', 'M8': 'Mate', 'NRN': 'No Reply Necessary', 'OIC': 'Oh I See', 'PITA': 'Pain In The A..', 'PRT': 'Party', 'PRW': 'Parents Are Watching', 'QPSA': '\\tQue Pasa?', 'ROFL': 'Rolling On The Floor Laughing', 'ROFLOL': 'Rolling On The Floor Laughing Out Loud', 'ROTFLMAO': 'Rolling On The Floor Laughing My Ass Off', 'SK8': 'Skate', 'STATS': 'Your sex and age', 'ASL': 'Age, Sex, Location', 'THX': 'Thank You', 'TTFN': 'Ta Ta For Now', 'TTYL': 'Talk To You Later', 'U': 'You', 'U2': 'You Too', 'U4E': 'Yours For Ever', 'WB': 'Welcome Back', 'WTF': 'What The Fuck', 'WTG': 'Way To Go!', 'WUF': 'Where Are You From?', 'W8': 'Wait', '7K': 'Sick', 'TFW ': ' That feeling when. TFW internet slang often goes in a caption to an image.', 'MFW ': ' My face when', 'MRW ': ' My reaction when', 'IFYP ': ' I feel your pain', 'LOL ': ' Laughing out loud', 'TNTL ': ' Trying not to laugh', 'JK ': ' Just kidding', 'IDC ': ' I don’t care', 'ILY ': ' I love you', 'IMU ': ' I miss you', 'ADIH ': ' Another day in hell', 'ZZZ ': ' Sleeping, bored, tired', 'WYWH ': ' Wish you were here', 'TIME ': ' Tears in my eyes', 'BAE ': ' Before anyone else', 'FIMH ': ' Forever in my heart', 'BSAAW ': ' Big smile and a wink', 'BWL ': ' Bursting with laughter', 'LMAO ': ' Laughing my ass off', 'BFF': ' Best friends forever', 'CSL ': ' Can’t stop laughing'}\n"
          ]
        }
      ],
      "source": [
        "dict ={}\n",
        "with open('/content/slang.txt', 'r') as file:\n",
        "  for line in file:\n",
        "    line = line.strip()\n",
        "    if line:  # Check if the line is not empty\n",
        "      key, value = line.split('=', 1)  # Split on the first symbol\n",
        "      dict[key] = value\n",
        "\n",
        "print(dict)"
      ]
    },
    {
      "cell_type": "code",
      "execution_count": null,
      "metadata": {
        "id": "QZ5CSZAtFGSp"
      },
      "outputs": [],
      "source": [
        "def chat(text): # function to convert slangs into their full forms\n",
        "  new_txt = []\n",
        "  for w in text.split():\n",
        "    if w.upper() in dict.keys():\n",
        "      new_txt.append(dict[w.upper()])\n",
        "    else:\n",
        "      new_txt.append(w)\n",
        "  return ' '.join(new_txt)"
      ]
    },
    {
      "cell_type": "code",
      "execution_count": null,
      "metadata": {
        "id": "iyWjGQ1BJofq",
        "colab": {
          "base_uri": "https://localhost:8080/"
        },
        "outputId": "45025bc4-34b2-46d8-f075-5c9ea690a801"
      },
      "outputs": [
        {
          "output_type": "execute_result",
          "data": {
            "text/plain": [
              "1210332    @mparaz Apparently so. Oh well. It doesn't mat...\n",
              "1429866                           Oops that's watching no h.\n",
              "1507624    So warm in my room.. Birthday in 8 hours! Exam...\n",
              "714330                                  Got hurt in the pool\n",
              "28503      is still trying to find a friggin hoodie. Ugh....\n",
              "                                 ...                        \n",
              "1433088    @herbstsonne so glad you found a great place!!...\n",
              "1590479                       @phendo happy Birthday!!! xxxx\n",
              "212467     @domipheus Good for you! I tried to here, but ...\n",
              "697492     @QueenM81 i got the couple of pics they ahd bu...\n",
              "809872     @DonnieWahlberg I got sad news today, but I wa...\n",
              "Name: text, Length: 100000, dtype: object"
            ]
          },
          "metadata": {},
          "execution_count": 78
        }
      ],
      "source": [
        "data['text'].apply(chat)"
      ]
    },
    {
      "cell_type": "code",
      "execution_count": null,
      "metadata": {
        "id": "WmcAQwxMKKrY"
      },
      "outputs": [],
      "source": [
        "# rectifying any spelling errors\n",
        "# from textblob import TextBlob\n",
        "\n",
        "# def spelling(text):\n",
        "#   tb = TextBlob(text)\n",
        "#   return str(tb.correct())"
      ]
    },
    {
      "cell_type": "code",
      "execution_count": null,
      "metadata": {
        "id": "ltYy5f0XKKnv"
      },
      "outputs": [],
      "source": [
        "# data['text'].apply(spelling)"
      ]
    },
    {
      "cell_type": "code",
      "execution_count": null,
      "metadata": {
        "id": "H8Jur0wFKKbj"
      },
      "outputs": [],
      "source": [
        "# from nltk.tokenize import word_tokenize"
      ]
    },
    {
      "cell_type": "code",
      "execution_count": null,
      "metadata": {
        "id": "L5Aew46cbCs9"
      },
      "outputs": [],
      "source": [
        "def stemming(content):\n",
        "  content = emoji.demojize(content)\n",
        "  # content = content.translate(str.maketrans('','',string.punctuation))\n",
        "  stemmed_content = re.sub('[^a-zA-Z]', ' ', content) # if any word or letter doesnt belong to this a-z then we will remove it\n",
        "  stemmed_content = stemmed_content.lower()\n",
        "  stemmed_content = stemmed_content.split()\n",
        "  stemmed_content = [p_stem.stem(word) for word in stemmed_content if not word in stopwords.words('english')]\n",
        "  # reducing the word to its root form or stemmed form and then checking if it belongs to the list of stopwords\n",
        "  # if it does not then we add it to the list\n",
        "  stemmed_content = ' '.join(stemmed_content)\n",
        "  return stemmed_content"
      ]
    },
    {
      "cell_type": "code",
      "execution_count": null,
      "metadata": {
        "id": "nfZ1ViMxbrfl"
      },
      "outputs": [],
      "source": [
        "data['stemmed_content'] = data['text'].apply(stemming)"
      ]
    },
    {
      "cell_type": "code",
      "execution_count": null,
      "metadata": {
        "id": "UvdbiDA5TDbf"
      },
      "outputs": [],
      "source": [
        "# import string\n",
        "\n",
        "# def remove_punctuation(text):\n",
        "#     return text.translate(str.maketrans('', '', string.punctuation))\n",
        "\n",
        "# # Apply the function to the 'text' column\n",
        "# data['stemmed_content'] = data['stemmed_content'].apply(remove_punctuation)\n",
        "\n",
        "# # Display the DataFrame\n",
        "# print(data['stemmed_content'])"
      ]
    },
    {
      "cell_type": "code",
      "execution_count": null,
      "metadata": {
        "id": "PHWLhzOk0c54"
      },
      "outputs": [],
      "source": [
        "X = data['stemmed_content'].values\n",
        "Y = data['target'].values"
      ]
    },
    {
      "cell_type": "code",
      "execution_count": null,
      "metadata": {
        "id": "7dhZY_2g2XPl",
        "colab": {
          "base_uri": "https://localhost:8080/"
        },
        "outputId": "962c67c3-542e-44d8-a3ef-2ded75d62327"
      },
      "outputs": [
        {
          "output_type": "stream",
          "name": "stdout",
          "text": [
            "['mparaz appar oh well matter long lotu note job help job fine'\n",
            " 'oop watch h' 'warm room birthday hour exam ish hour hmm' ...\n",
            " 'domipheu good tri holiday peopl went mental got yum stuff got work'\n",
            " 'queenm got coupl pic ahd dont think kean today'\n",
            " 'donniewahlberg got sad news today advis life throw lemon add black rum']\n"
          ]
        },
        {
          "output_type": "execute_result",
          "data": {
            "text/plain": [
              "array([1, 1, 1, ..., 0, 0, 1])"
            ]
          },
          "metadata": {},
          "execution_count": 88
        }
      ],
      "source": [
        "print(X)\n",
        "Y"
      ]
    },
    {
      "cell_type": "code",
      "execution_count": null,
      "metadata": {
        "id": "cmT00aXk2bsm"
      },
      "outputs": [],
      "source": [
        "# Splitting into train and test data\n",
        "X_train, X_test, Y_train, Y_test = train_test_split(X,Y, test_size = 0.2, stratify = Y, random_state = 2)\n",
        "# stratify to make sure equal proportion of data goes into training data and testing data i.e. 50-50\n",
        "# random state so that data is split in the same way for everyone"
      ]
    },
    {
      "cell_type": "code",
      "execution_count": null,
      "metadata": {
        "id": "OnoOPDl_2mN2",
        "colab": {
          "base_uri": "https://localhost:8080/"
        },
        "outputId": "addc183d-b0da-4efe-be26-5b415799fb42"
      },
      "outputs": [
        {
          "output_type": "stream",
          "name": "stdout",
          "text": [
            "(100000,) (80000,) (20000,)\n"
          ]
        }
      ],
      "source": [
        "print(X.shape,X_train.shape,X_test.shape)"
      ]
    },
    {
      "cell_type": "code",
      "execution_count": null,
      "metadata": {
        "id": "bmA0pWfEr-fQ"
      },
      "outputs": [],
      "source": [
        "# Applying BoW\n",
        "# from sklearn.feature_extraction.text import CountVectorizer\n",
        "# cv = CountVectorizer()\n",
        "# X_train_bow = cv.fit_transform(X_train).toarray()\n",
        "# X_test_bow = cv.transform(X_test).toarray()"
      ]
    },
    {
      "cell_type": "code",
      "execution_count": null,
      "metadata": {
        "id": "C6QvH8qXrqfZ"
      },
      "outputs": [],
      "source": [
        "# from sklearn.ensemble import RandomForestClassifier\n",
        "# rf = RandomForestClassifier()\n",
        "\n",
        "# rf.fit(X_train_bow,Y_train)\n",
        "# y_pred = rf.predict(X_test_bow)\n",
        "# accuracy_score(Y_test,y_pred)"
      ]
    },
    {
      "cell_type": "markdown",
      "metadata": {
        "id": "v9Y2pFP63qCt"
      },
      "source": [
        "Vectorization"
      ]
    },
    {
      "cell_type": "code",
      "execution_count": null,
      "metadata": {
        "id": "TqV2eoKG3th8"
      },
      "outputs": [],
      "source": [
        "vectorizer = TfidfVectorizer()\n",
        "#fitting and transforming training data\n",
        "X_train = vectorizer.fit_transform(X_train)\n",
        "X_test = vectorizer.transform(X_test)\n",
        "# gives importance to each word on the basis of whether it is a positive tweet or a negative tweet"
      ]
    },
    {
      "cell_type": "code",
      "execution_count": null,
      "metadata": {
        "id": "3-HV2BsR5RLl",
        "colab": {
          "base_uri": "https://localhost:8080/"
        },
        "outputId": "920d59c4-b00f-44cc-f582-aa838f16460a"
      },
      "outputs": [
        {
          "output_type": "stream",
          "name": "stdout",
          "text": [
            "  (0, 60033)\t0.3783615145488311\n",
            "  (0, 57833)\t0.3222152890373072\n",
            "  (0, 49062)\t0.8677671760437354\n",
            "  (1, 2950)\t0.3517274624742293\n",
            "  (1, 60244)\t0.4013819291268921\n",
            "  (1, 48055)\t0.3703631971519182\n",
            "  (1, 60547)\t0.25223449998652664\n",
            "  (1, 39262)\t0.3375751331102591\n",
            "  (1, 39630)\t0.22930109030982382\n",
            "  (1, 59785)\t0.5529052675612675\n",
            "  (1, 57833)\t0.20530222335642306\n",
            "  (2, 25294)\t0.4086344755671258\n",
            "  (2, 59054)\t0.502429984064583\n",
            "  (2, 18135)\t0.3150006030702851\n",
            "  (2, 62337)\t0.6937986714863323\n",
            "  (3, 11417)\t0.29600217771007953\n",
            "  (3, 14343)\t0.4550042328380358\n",
            "  (3, 59303)\t0.2595438922602053\n",
            "  (3, 33429)\t0.2480004919500512\n",
            "  (3, 13706)\t0.2318491828083843\n",
            "  (3, 18875)\t0.468982668464277\n",
            "  (3, 50927)\t0.3197841574383188\n",
            "  (3, 12026)\t0.32867542185859\n",
            "  (3, 64182)\t0.30413542329375154\n",
            "  (4, 24030)\t0.38622803756103585\n",
            "  :\t:\n",
            "  (79997, 17248)\t0.4326602022966331\n",
            "  (79997, 20198)\t0.44407567283960275\n",
            "  (79997, 19890)\t0.2850612666167281\n",
            "  (79997, 48675)\t0.32326642007997114\n",
            "  (79997, 18832)\t0.3366179260425833\n",
            "  (79997, 44575)\t0.21166568725797916\n",
            "  (79997, 64378)\t0.2448982210245093\n",
            "  (79998, 41428)\t0.6582258089905512\n",
            "  (79998, 37185)\t0.5084328894635526\n",
            "  (79998, 40707)\t0.26377910595660414\n",
            "  (79998, 5340)\t0.35835111430214056\n",
            "  (79998, 24850)\t0.26540842754327215\n",
            "  (79998, 22011)\t0.19949488719923097\n",
            "  (79999, 17902)\t0.4867636315991295\n",
            "  (79999, 12908)\t0.36909394205248436\n",
            "  (79999, 36314)\t0.3166919275952337\n",
            "  (79999, 1683)\t0.2811791863616403\n",
            "  (79999, 45061)\t0.2835968130866848\n",
            "  (79999, 1789)\t0.23969727554396467\n",
            "  (79999, 5593)\t0.23606931312064003\n",
            "  (79999, 32561)\t0.29042822654764533\n",
            "  (79999, 65551)\t0.23000572803836916\n",
            "  (79999, 24850)\t0.19627180867627164\n",
            "  (79999, 41339)\t0.19528894588178103\n",
            "  (79999, 11417)\t0.19988265352823462\n"
          ]
        }
      ],
      "source": [
        "print(X_train)"
      ]
    },
    {
      "cell_type": "code",
      "execution_count": null,
      "metadata": {
        "id": "xAJ_jV0X5S-m",
        "colab": {
          "base_uri": "https://localhost:8080/"
        },
        "outputId": "279da6f0-b6df-43a1-a856-71232d80c5a0"
      },
      "outputs": [
        {
          "output_type": "stream",
          "name": "stdout",
          "text": [
            "  (0, 49008)\t0.6253827928544886\n",
            "  (0, 47924)\t0.5615800788141654\n",
            "  (0, 38109)\t0.5417787163414558\n",
            "  (1, 59443)\t0.5800914158011764\n",
            "  (1, 12073)\t0.8145513791737061\n",
            "  (2, 60404)\t0.32544813441752507\n",
            "  (2, 58187)\t0.3439603316354995\n",
            "  (2, 52993)\t0.28760121067505584\n",
            "  (2, 47676)\t0.42366001765491856\n",
            "  (2, 34512)\t0.16383030301467055\n",
            "  (2, 30612)\t0.23605055203253755\n",
            "  (2, 15136)\t0.38980129979285827\n",
            "  (2, 6774)\t0.45836325072586453\n",
            "  (2, 1671)\t0.2626221256621342\n",
            "  (3, 63121)\t0.40749340966707026\n",
            "  (3, 45673)\t0.581145631090691\n",
            "  (3, 34512)\t0.20771574659719416\n",
            "  (3, 32431)\t0.3702913451418054\n",
            "  (3, 27258)\t0.37336495735128916\n",
            "  (3, 18150)\t0.30209360555157666\n",
            "  (3, 5593)\t0.29205380836015304\n",
            "  (4, 62532)\t0.3247501589641563\n",
            "  (4, 60033)\t0.242893218515485\n",
            "  (4, 51442)\t0.21479256603814287\n",
            "  (4, 51131)\t0.5042979709755641\n",
            "  :\t:\n",
            "  (19996, 56438)\t0.5044039113894155\n",
            "  (19996, 54836)\t0.43029190131517764\n",
            "  (19996, 49182)\t0.4706036348103234\n",
            "  (19996, 26702)\t0.4443202835814972\n",
            "  (19996, 23164)\t0.37621440474681134\n",
            "  (19997, 58525)\t0.5481289569386406\n",
            "  (19997, 25133)\t0.6219453550580476\n",
            "  (19997, 5663)\t0.5592303835514276\n",
            "  (19998, 64778)\t0.34140553612928687\n",
            "  (19998, 64715)\t0.23635220008852673\n",
            "  (19998, 59378)\t0.2511105335277619\n",
            "  (19998, 55746)\t0.2365696537557231\n",
            "  (19998, 50912)\t0.22238040079538937\n",
            "  (19998, 50206)\t0.18178039430027398\n",
            "  (19998, 41684)\t0.28222683747111665\n",
            "  (19998, 40950)\t0.2016208875758815\n",
            "  (19998, 34716)\t0.19856807908992874\n",
            "  (19998, 29264)\t0.4088374765508249\n",
            "  (19998, 19034)\t0.16371759684635298\n",
            "  (19998, 11417)\t0.521897744772016\n",
            "  (19999, 61385)\t0.5062335599905827\n",
            "  (19999, 55724)\t0.3485119349790178\n",
            "  (19999, 49766)\t0.555341493675888\n",
            "  (19999, 13915)\t0.45345905766465866\n",
            "  (19999, 6921)\t0.3289950187163256\n"
          ]
        }
      ],
      "source": [
        "print(X_test)"
      ]
    },
    {
      "cell_type": "markdown",
      "metadata": {
        "id": "1v_z_SyY5myL"
      },
      "source": [
        "Training the ML Model"
      ]
    },
    {
      "cell_type": "code",
      "execution_count": null,
      "metadata": {
        "id": "vf24Omzu5qM5"
      },
      "outputs": [],
      "source": [
        "model = LogisticRegression(max_iter = 1000 )"
      ]
    },
    {
      "cell_type": "code",
      "execution_count": null,
      "metadata": {
        "id": "A6u5Z3c251y-",
        "colab": {
          "base_uri": "https://localhost:8080/",
          "height": 74
        },
        "outputId": "b7e46d02-b5ae-4b22-96c7-9c5869b0fe5a"
      },
      "outputs": [
        {
          "output_type": "execute_result",
          "data": {
            "text/plain": [
              "LogisticRegression(max_iter=1000)"
            ],
            "text/html": [
              "<style>#sk-container-id-2 {color: black;background-color: white;}#sk-container-id-2 pre{padding: 0;}#sk-container-id-2 div.sk-toggleable {background-color: white;}#sk-container-id-2 label.sk-toggleable__label {cursor: pointer;display: block;width: 100%;margin-bottom: 0;padding: 0.3em;box-sizing: border-box;text-align: center;}#sk-container-id-2 label.sk-toggleable__label-arrow:before {content: \"▸\";float: left;margin-right: 0.25em;color: #696969;}#sk-container-id-2 label.sk-toggleable__label-arrow:hover:before {color: black;}#sk-container-id-2 div.sk-estimator:hover label.sk-toggleable__label-arrow:before {color: black;}#sk-container-id-2 div.sk-toggleable__content {max-height: 0;max-width: 0;overflow: hidden;text-align: left;background-color: #f0f8ff;}#sk-container-id-2 div.sk-toggleable__content pre {margin: 0.2em;color: black;border-radius: 0.25em;background-color: #f0f8ff;}#sk-container-id-2 input.sk-toggleable__control:checked~div.sk-toggleable__content {max-height: 200px;max-width: 100%;overflow: auto;}#sk-container-id-2 input.sk-toggleable__control:checked~label.sk-toggleable__label-arrow:before {content: \"▾\";}#sk-container-id-2 div.sk-estimator input.sk-toggleable__control:checked~label.sk-toggleable__label {background-color: #d4ebff;}#sk-container-id-2 div.sk-label input.sk-toggleable__control:checked~label.sk-toggleable__label {background-color: #d4ebff;}#sk-container-id-2 input.sk-hidden--visually {border: 0;clip: rect(1px 1px 1px 1px);clip: rect(1px, 1px, 1px, 1px);height: 1px;margin: -1px;overflow: hidden;padding: 0;position: absolute;width: 1px;}#sk-container-id-2 div.sk-estimator {font-family: monospace;background-color: #f0f8ff;border: 1px dotted black;border-radius: 0.25em;box-sizing: border-box;margin-bottom: 0.5em;}#sk-container-id-2 div.sk-estimator:hover {background-color: #d4ebff;}#sk-container-id-2 div.sk-parallel-item::after {content: \"\";width: 100%;border-bottom: 1px solid gray;flex-grow: 1;}#sk-container-id-2 div.sk-label:hover label.sk-toggleable__label {background-color: #d4ebff;}#sk-container-id-2 div.sk-serial::before {content: \"\";position: absolute;border-left: 1px solid gray;box-sizing: border-box;top: 0;bottom: 0;left: 50%;z-index: 0;}#sk-container-id-2 div.sk-serial {display: flex;flex-direction: column;align-items: center;background-color: white;padding-right: 0.2em;padding-left: 0.2em;position: relative;}#sk-container-id-2 div.sk-item {position: relative;z-index: 1;}#sk-container-id-2 div.sk-parallel {display: flex;align-items: stretch;justify-content: center;background-color: white;position: relative;}#sk-container-id-2 div.sk-item::before, #sk-container-id-2 div.sk-parallel-item::before {content: \"\";position: absolute;border-left: 1px solid gray;box-sizing: border-box;top: 0;bottom: 0;left: 50%;z-index: -1;}#sk-container-id-2 div.sk-parallel-item {display: flex;flex-direction: column;z-index: 1;position: relative;background-color: white;}#sk-container-id-2 div.sk-parallel-item:first-child::after {align-self: flex-end;width: 50%;}#sk-container-id-2 div.sk-parallel-item:last-child::after {align-self: flex-start;width: 50%;}#sk-container-id-2 div.sk-parallel-item:only-child::after {width: 0;}#sk-container-id-2 div.sk-dashed-wrapped {border: 1px dashed gray;margin: 0 0.4em 0.5em 0.4em;box-sizing: border-box;padding-bottom: 0.4em;background-color: white;}#sk-container-id-2 div.sk-label label {font-family: monospace;font-weight: bold;display: inline-block;line-height: 1.2em;}#sk-container-id-2 div.sk-label-container {text-align: center;}#sk-container-id-2 div.sk-container {/* jupyter's `normalize.less` sets `[hidden] { display: none; }` but bootstrap.min.css set `[hidden] { display: none !important; }` so we also need the `!important` here to be able to override the default hidden behavior on the sphinx rendered scikit-learn.org. See: https://github.com/scikit-learn/scikit-learn/issues/21755 */display: inline-block !important;position: relative;}#sk-container-id-2 div.sk-text-repr-fallback {display: none;}</style><div id=\"sk-container-id-2\" class=\"sk-top-container\"><div class=\"sk-text-repr-fallback\"><pre>LogisticRegression(max_iter=1000)</pre><b>In a Jupyter environment, please rerun this cell to show the HTML representation or trust the notebook. <br />On GitHub, the HTML representation is unable to render, please try loading this page with nbviewer.org.</b></div><div class=\"sk-container\" hidden><div class=\"sk-item\"><div class=\"sk-estimator sk-toggleable\"><input class=\"sk-toggleable__control sk-hidden--visually\" id=\"sk-estimator-id-2\" type=\"checkbox\" checked><label for=\"sk-estimator-id-2\" class=\"sk-toggleable__label sk-toggleable__label-arrow\">LogisticRegression</label><div class=\"sk-toggleable__content\"><pre>LogisticRegression(max_iter=1000)</pre></div></div></div></div></div>"
            ]
          },
          "metadata": {},
          "execution_count": 97
        }
      ],
      "source": [
        "model.fit(X_train,Y_train)"
      ]
    },
    {
      "cell_type": "markdown",
      "metadata": {
        "id": "i0M0cCig6IMN"
      },
      "source": [
        "Model Evaluation"
      ]
    },
    {
      "cell_type": "code",
      "execution_count": null,
      "metadata": {
        "id": "I6WjZEmK7oOw"
      },
      "outputs": [],
      "source": [
        "acc_score_train = model.score(X_train,Y_train)"
      ]
    },
    {
      "cell_type": "code",
      "execution_count": null,
      "metadata": {
        "id": "dtuE9Pma7wG4",
        "colab": {
          "base_uri": "https://localhost:8080/"
        },
        "outputId": "9003e9ea-e599-43fc-f3ef-1f538ae7cf60"
      },
      "outputs": [
        {
          "output_type": "execute_result",
          "data": {
            "text/plain": [
              "0.8280125"
            ]
          },
          "metadata": {},
          "execution_count": 99
        }
      ],
      "source": [
        "acc_score_train"
      ]
    },
    {
      "cell_type": "code",
      "execution_count": null,
      "metadata": {
        "id": "K-qyirJE6JX4"
      },
      "outputs": [],
      "source": [
        "acc_score_test = accuracy_score(Y_test, model.predict(X_test))"
      ]
    },
    {
      "cell_type": "code",
      "execution_count": null,
      "metadata": {
        "id": "pzxGb_xp6Ojl",
        "colab": {
          "base_uri": "https://localhost:8080/"
        },
        "outputId": "afdfd275-db5b-4a51-da5a-eab98d33ceaf"
      },
      "outputs": [
        {
          "output_type": "execute_result",
          "data": {
            "text/plain": [
              "0.75615"
            ]
          },
          "metadata": {},
          "execution_count": 101
        }
      ],
      "source": [
        "acc_score_test"
      ]
    },
    {
      "cell_type": "code",
      "source": [
        "# Plot the accuracy scores\n",
        "import matplotlib.pyplot as plt\n",
        "plt.figure(figsize=(8, 5))\n",
        "plt.bar(['Training Accuracy', 'Testing Accuracy'], [acc_score_train, acc_score_test], color=['blue', 'green'])\n",
        "plt.title('Training vs Testing Accuracy for Logistic Regression')\n",
        "plt.ylim(0, 1)\n",
        "plt.ylabel('Accuracy')\n",
        "plt.show()"
      ],
      "metadata": {
        "colab": {
          "base_uri": "https://localhost:8080/",
          "height": 468
        },
        "id": "QTKw7kEiXTia",
        "outputId": "ed301241-1b77-47fd-f315-05910da79150"
      },
      "execution_count": null,
      "outputs": [
        {
          "output_type": "display_data",
          "data": {
            "text/plain": [
              "<Figure size 800x500 with 1 Axes>"
            ],
            "image/png": "[encoded data removed]"
          },
          "metadata": {}
        }
      ]
    },
    {
      "cell_type": "code",
      "source": [
        "import seaborn as sns\n",
        "cm = confusion_matrix(Y_test, model.predict(X_test))\n",
        "sns.heatmap(cm, annot=True, fmt='d', cmap='Blues')\n",
        "plt.xlabel('Predicted')\n",
        "plt.ylabel('True')\n",
        "plt.title('Confusion Matrix')\n",
        "plt.show()"
      ],
      "metadata": {
        "colab": {
          "base_uri": "https://localhost:8080/",
          "height": 472
        },
        "id": "-aIFJI48aXCz",
        "outputId": "bce69c10-86f3-4efd-8435-1a086b8d20d3"
      },
      "execution_count": null,
      "outputs": [
        {
          "output_type": "display_data",
          "data": {
            "text/plain": [
              "<Figure size 640x480 with 2 Axes>"
            ],
            "image/png": "[encoded data removed]"
          },
          "metadata": {}
        }
      ]
    },
    {
      "cell_type": "code",
      "execution_count": null,
      "metadata": {
        "id": "QorDuOCx-PqG",
        "colab": {
          "base_uri": "https://localhost:8080/"
        },
        "outputId": "004e3536-7915-434f-e5c4-6d9636f72e3e"
      },
      "outputs": [
        {
          "output_type": "stream",
          "name": "stdout",
          "text": [
            "Positive tweet\n"
          ]
        }
      ],
      "source": [
        "str = ['Spread kindness!']\n",
        "x = model.predict(vectorizer.transform(str))\n",
        "if x[0] == 1:\n",
        "  print('Positive tweet')\n",
        "else:\n",
        "  print('Negative tweet')"
      ]
    },
    {
      "cell_type": "markdown",
      "metadata": {
        "id": "fqFwaGnE8w6o"
      },
      "source": [
        "Saving the Trained Model\n"
      ]
    },
    {
      "cell_type": "code",
      "execution_count": null,
      "metadata": {
        "id": "QTfYmxl86P3i"
      },
      "outputs": [],
      "source": [
        "import pickle"
      ]
    },
    {
      "cell_type": "code",
      "execution_count": null,
      "metadata": {
        "id": "HCT4hYGz8rWe"
      },
      "outputs": [],
      "source": [
        "file = 'trained.pkl'\n",
        "pickle.dump(model,open(file,'wb'))"
      ]
    },
    {
      "cell_type": "code",
      "execution_count": null,
      "metadata": {
        "id": "LUkm29rD87rj"
      },
      "outputs": [],
      "source": [
        "load_model = pickle.load(open('/content/trained.pkl','rb'))"
      ]
    }
  ],
  "metadata": {
    "colab": {
      "provenance": []
    },
    "kernelspec": {
      "display_name": "Python 3",
      "name": "python3"
    },
    "language_info": {
      "name": "python"
    }
  },
  "nbformat": 4,
  "nbformat_minor": 0
}